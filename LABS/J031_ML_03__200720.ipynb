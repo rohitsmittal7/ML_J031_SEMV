{
  "nbformat": 4,
  "nbformat_minor": 0,
  "metadata": {
    "colab": {
      "name": "J031_ML_03_ 200720.ipynb",
      "provenance": [],
      "collapsed_sections": [],
      "include_colab_link": true
    },
    "kernelspec": {
      "name": "python3",
      "display_name": "Python 3"
    }
  },
  "cells": [
    {
      "cell_type": "markdown",
      "metadata": {
        "id": "view-in-github",
        "colab_type": "text"
      },
      "source": [
        "<a href=\"https://colab.research.google.com/github/rohitsmittal7/ML_J031_SEMV/blob/main/LABS/J031_ML_03__200720.ipynb\" target=\"_parent\"><img src=\"https://colab.research.google.com/assets/colab-badge.svg\" alt=\"Open In Colab\"/></a>"
      ]
    },
    {
      "cell_type": "code",
      "metadata": {
        "id": "o7_s8LrOvzf_"
      },
      "source": [
        "import numpy as np  # useful for many scientific computing in Python\n",
        "import pandas as pd # primary data structure library\n",
        "\n",
        "!conda install -c anaconda xlrd --yes\n",
        "\n",
        "df_can = pd.read_excel('https://s3-api.us-geo.objectstorage.softlayer.net/cf-courses-data/CognitiveClass/DV0101EN/labs/Data_Files/Canada.xlsx',\n",
        "                       sheet_name='Canada by Citizenship',\n",
        "                       skiprows=range(20),\n",
        "                       skipfooter=2)\n",
        "\n",
        "print ('Data read into a pandas dataframe!')"
      ],
      "execution_count": null,
      "outputs": []
    },
    {
      "cell_type": "code",
      "metadata": {
        "id": "6jWY-Sr4x9ct"
      },
      "source": [
        "#Dataset of immigration into canada from other countries - 1980 to 2013 (each year and each country)\n",
        "\n",
        "df_can.head(10)"
      ],
      "execution_count": null,
      "outputs": []
    },
    {
      "cell_type": "code",
      "metadata": {
        "id": "dcsOLhH6yQm8"
      },
      "source": [
        "df_can.shape"
      ],
      "execution_count": null,
      "outputs": []
    },
    {
      "cell_type": "code",
      "metadata": {
        "id": "rUllMJIKyaa0"
      },
      "source": [
        "df_can.tail()"
      ],
      "execution_count": null,
      "outputs": []
    },
    {
      "cell_type": "code",
      "metadata": {
        "id": "KcI3evEKyhO8"
      },
      "source": [
        "df_can.info()"
      ],
      "execution_count": null,
      "outputs": []
    },
    {
      "cell_type": "code",
      "metadata": {
        "id": "zuU2kOXhylzA"
      },
      "source": [
        "#simplify and remove unnecessary columns\n",
        "\n",
        "df_can.drop(['AREA','REG','DEV','Type','Coverage'], inplace=True, axis='columns')"
      ],
      "execution_count": null,
      "outputs": []
    },
    {
      "cell_type": "code",
      "metadata": {
        "id": "fQev8DFFzP3j"
      },
      "source": [
        "df_can.head()"
      ],
      "execution_count": null,
      "outputs": []
    },
    {
      "cell_type": "code",
      "metadata": {
        "id": "TH2zOt4BzRu2"
      },
      "source": [
        "#rename columns to sensible names\n",
        "\n",
        "df_can.rename(columns={'OdName':'Country', 'AreaName':'Continent', 'RegName':'Continent-Region'}, inplace=True)"
      ],
      "execution_count": null,
      "outputs": []
    },
    {
      "cell_type": "code",
      "metadata": {
        "id": "OHruHZZxzrm0"
      },
      "source": [
        "df_can.head()"
      ],
      "execution_count": null,
      "outputs": []
    },
    {
      "cell_type": "code",
      "metadata": {
        "id": "pJw0rUA9zwWF"
      },
      "source": [
        "#count total immigration by country for all years\n",
        "\n",
        "df_can['total_immigration'] = df_can.sum(axis='columns')"
      ],
      "execution_count": null,
      "outputs": []
    },
    {
      "cell_type": "code",
      "metadata": {
        "id": "ecrbaerx0PTe"
      },
      "source": [
        "df_can.head()"
      ],
      "execution_count": null,
      "outputs": []
    },
    {
      "cell_type": "code",
      "metadata": {
        "id": "tOWzArxa0W_L"
      },
      "source": [
        "df_can.describe()"
      ],
      "execution_count": null,
      "outputs": []
    },
    {
      "cell_type": "code",
      "metadata": {
        "id": "vYd7ctKP0bkX"
      },
      "source": [
        "df_can.isnull().sum()"
      ],
      "execution_count": null,
      "outputs": []
    },
    {
      "cell_type": "code",
      "metadata": {
        "id": "mhwnF2jG0hdo"
      },
      "source": [
        "df_can.dtypes"
      ],
      "execution_count": null,
      "outputs": []
    },
    {
      "cell_type": "code",
      "metadata": {
        "id": "FVrAvZcQ00Lh"
      },
      "source": [
        "#Select immigration of years 1980-1985 from the dataset, for all countries?\n",
        "#get the list of columns in the dataframe\n",
        "df_can.columns\n",
        "df_can[['Country',1980,1981,1982,1983,1984,1985]]"
      ],
      "execution_count": null,
      "outputs": []
    },
    {
      "cell_type": "code",
      "metadata": {
        "id": "_AL6e-UG1rxz"
      },
      "source": [
        "#simplify the dataset by changing the index from numbers to country names\n",
        "\n",
        "df_can.index.values"
      ],
      "execution_count": null,
      "outputs": []
    },
    {
      "cell_type": "code",
      "metadata": {
        "id": "VChUlQ5d2X5U"
      },
      "source": [
        "df_can.set_index('Country', inplace=True)"
      ],
      "execution_count": null,
      "outputs": []
    },
    {
      "cell_type": "code",
      "metadata": {
        "id": "J9c3Ng_g2gC5"
      },
      "source": [
        "df_can.head()"
      ],
      "execution_count": null,
      "outputs": []
    },
    {
      "cell_type": "code",
      "metadata": {
        "id": "1yVK2qvt2nIi"
      },
      "source": [
        "print(df_can.loc['India'])"
      ],
      "execution_count": null,
      "outputs": []
    },
    {
      "cell_type": "code",
      "metadata": {
        "id": "PDZpjwty2yot"
      },
      "source": [
        "df_can.iloc[8]"
      ],
      "execution_count": null,
      "outputs": []
    },
    {
      "cell_type": "code",
      "metadata": {
        "id": "XokeWo9S291M"
      },
      "source": [
        "print(df_can.loc['Japan',2000])"
      ],
      "execution_count": null,
      "outputs": []
    },
    {
      "cell_type": "code",
      "metadata": {
        "id": "w7NtDbbi3Fsn"
      },
      "source": [
        "print(df_can.iloc[12,12])"
      ],
      "execution_count": null,
      "outputs": []
    },
    {
      "cell_type": "code",
      "metadata": {
        "id": "DFoPHbIt3MgA"
      },
      "source": [
        "#convert columns names to string\n",
        "#map - syntax(function, collection)\n",
        "#apply function to each element of the collection - equivalent apply, mapply,sapply,lapply functions of R\n",
        "\n",
        "df_can.columns = list(map(str,df_can.columns))"
      ],
      "execution_count": null,
      "outputs": []
    },
    {
      "cell_type": "code",
      "metadata": {
        "id": "OK2DS9Dr348i"
      },
      "source": [
        "df_can.columns"
      ],
      "execution_count": null,
      "outputs": []
    },
    {
      "cell_type": "code",
      "metadata": {
        "id": "bMSyTfWP4LMQ"
      },
      "source": [
        "#filtering on dataframe\n",
        "\n",
        "#Q. find all countries in Asia\n",
        "\n",
        "condition = df_can['Continent'] == 'Asia'\n",
        "df_can[condition]"
      ],
      "execution_count": null,
      "outputs": []
    },
    {
      "cell_type": "code",
      "metadata": {
        "id": "Q-ySy-Xt4kH8"
      },
      "source": [
        "#Q. multiple conditions\n",
        "\n",
        "df_can[(df_can['Continent']=='Asia')]"
      ],
      "execution_count": null,
      "outputs": []
    },
    {
      "cell_type": "code",
      "metadata": {
        "id": "2LWRJfbI4whK"
      },
      "source": [
        "df_can[(df_can['1980'] > 1000)]"
      ],
      "execution_count": null,
      "outputs": []
    },
    {
      "cell_type": "code",
      "metadata": {
        "id": "XtxItcxA4_v0"
      },
      "source": [
        "#syntax - df[(condition)]\n",
        "\n",
        "df_can[(df_can['Continent']=='Asia')&(df_can['2013']>10000)]"
      ],
      "execution_count": null,
      "outputs": []
    },
    {
      "cell_type": "code",
      "metadata": {
        "id": "D7NEYsIt5mwv"
      },
      "source": [
        "df_can.where(df_can['Continent']=='Asia')"
      ],
      "execution_count": null,
      "outputs": []
    },
    {
      "cell_type": "code",
      "metadata": {
        "id": "2sB1aodk58TL"
      },
      "source": [
        "#conditions\n",
        "#basic stats\n",
        "\n",
        "import matplotlib.pyplot as plt\n",
        "import matplotlib as mpl\n",
        "import plotly as px"
      ],
      "execution_count": null,
      "outputs": []
    },
    {
      "cell_type": "code",
      "metadata": {
        "id": "3morMeAn6eni"
      },
      "source": [
        "mpl.__version__"
      ],
      "execution_count": null,
      "outputs": []
    },
    {
      "cell_type": "code",
      "metadata": {
        "id": "Mut7_00d7jFz"
      },
      "source": [
        "df_can.columns"
      ],
      "execution_count": null,
      "outputs": []
    },
    {
      "cell_type": "code",
      "metadata": {
        "id": "ms1WdBdI6kEs"
      },
      "source": [
        "years = list(map(str,range(1980,2014)))\n",
        "\n",
        "years"
      ],
      "execution_count": null,
      "outputs": []
    },
    {
      "cell_type": "code",
      "metadata": {
        "id": "amd89R-j8Z0t"
      },
      "source": [
        "india = df_can.loc['India',years]"
      ],
      "execution_count": null,
      "outputs": []
    },
    {
      "cell_type": "code",
      "metadata": {
        "id": "QzcuIpEE8fUT"
      },
      "source": [
        "india"
      ],
      "execution_count": null,
      "outputs": []
    },
    {
      "cell_type": "code",
      "metadata": {
        "id": "5v4Nupw_8jCv"
      },
      "source": [
        "india.plot()"
      ],
      "execution_count": null,
      "outputs": []
    },
    {
      "cell_type": "code",
      "metadata": {
        "id": "R4LMN5449GZC"
      },
      "source": [
        "india.index"
      ],
      "execution_count": null,
      "outputs": []
    },
    {
      "cell_type": "code",
      "metadata": {
        "id": "lleAhLXG8sbO"
      },
      "source": [
        "#change the index to integer\n",
        "india.index = india.index.map(int)\n",
        "\n",
        "india.plot(kind='line')\n",
        "plt.title('Immigration from India')\n",
        "plt.ylabel('Number of immigrants')\n",
        "plt.xlabel('Years')\n",
        "\n",
        "#update the plot\n",
        "plt.show()"
      ],
      "execution_count": null,
      "outputs": []
    },
    {
      "cell_type": "code",
      "metadata": {
        "id": "PgKIQU1v9TjT"
      },
      "source": [
        "india.plot(kind='line')\n",
        "plt.title('Immigration from India')\n",
        "plt.ylabel('Number of immigrants')\n",
        "plt.xlabel('Years')\n",
        "\n",
        "plt.text(2000, 32000, 'Y2K Revolution')\n",
        "plt.text(1990,15000,'Recession')\n",
        "plt.text(1985,10000,'Economic boom')\n",
        "#update the plot\n",
        "plt.show()"
      ],
      "execution_count": null,
      "outputs": []
    },
    {
      "cell_type": "code",
      "metadata": {
        "id": "gsZ6xfpb-tL6"
      },
      "source": [
        "years = list(map(str,range(1980,2014)))\n",
        "\n",
        "\n",
        "china = df_can.loc['China', years]"
      ],
      "execution_count": null,
      "outputs": []
    },
    {
      "cell_type": "code",
      "metadata": {
        "id": "YvzkB_yF-2qD"
      },
      "source": [
        "china.plot()"
      ],
      "execution_count": null,
      "outputs": []
    },
    {
      "cell_type": "code",
      "metadata": {
        "id": "dCIQ08FK-92r"
      },
      "source": [
        "china.index = china.index.map(int)\n",
        "\n",
        "china.plot(kind='line')\n",
        "\n",
        "plt.title('Immigration of China')\n",
        "plt.xlabel('Years')\n",
        "plt.ylabel('Immigrants')\n",
        "plt.text(1990,10000,'Marker')\n",
        "plt.show()"
      ],
      "execution_count": null,
      "outputs": []
    },
    {
      "cell_type": "code",
      "metadata": {
        "id": "8O2xU74V_xmy"
      },
      "source": [
        "years = list(map(str,range(1980,2014)))\n",
        "\n",
        "\n",
        "chinaindia = df_can.loc[['China','India'], years]\n",
        "\n",
        "new_chinaindia = chinaindia.transpose()\n",
        "new_chinaindia.plot()"
      ],
      "execution_count": null,
      "outputs": []
    },
    {
      "cell_type": "code",
      "metadata": {
        "id": "kMl1VfPr_fZf"
      },
      "source": [
        "new_chinaindia.index = new_chinaindia.index.map(int)\n",
        "\n",
        "new_chinaindia.plot(kind='line')\n",
        "\n",
        "plt.title('Immigration of China and India')\n",
        "plt.xlabel('Years')\n",
        "plt.ylabel('Immigrants')\n",
        "#plt.text(1990,10000,'Marker')\n",
        "plt.show()"
      ],
      "execution_count": null,
      "outputs": []
    },
    {
      "cell_type": "code",
      "metadata": {
        "id": "rpfe7XXVAje4"
      },
      "source": [
        "#Q. Which two countries have similar immigration trends over the years 1980-2013?\n",
        "\n",
        "#Q. France and Germany"
      ],
      "execution_count": null,
      "outputs": []
    },
    {
      "cell_type": "code",
      "metadata": {
        "id": "rhOkYYLUBjca"
      },
      "source": [
        "#top 5 countries that send immigrants to canada\n",
        "df_can.sort_values(by='total_immigration', ascending=False, axis='index', inplace=True)\n",
        "\n",
        "top5 = df_can.head(5)\n",
        "\n",
        "top5"
      ],
      "execution_count": null,
      "outputs": []
    },
    {
      "cell_type": "code",
      "metadata": {
        "id": "TTe-Kn0tChrv"
      },
      "source": [
        "years = list(map(str,range(1980,2014)))\n",
        "\n",
        "\n",
        "top5_clean = top5[years]\n",
        "\n",
        "top5_clean = top5_clean.transpose()\n",
        "top5_clean.plot()"
      ],
      "execution_count": null,
      "outputs": []
    },
    {
      "cell_type": "markdown",
      "metadata": {
        "id": "A7EkqqHxDSP1"
      },
      "source": [
        "#Part 2"
      ]
    },
    {
      "cell_type": "code",
      "metadata": {
        "id": "P9CIo_ouDRS1"
      },
      "source": [
        "#Area plots - Stacked line plot\n",
        "\n",
        "top5_clean\n",
        "\n"
      ],
      "execution_count": null,
      "outputs": []
    },
    {
      "cell_type": "code",
      "metadata": {
        "id": "lqxhFXJ5DmxS"
      },
      "source": [
        "top5_clean.index = top5_clean.index.map(int)\n",
        "\n",
        "top5_clean.plot(kind=\"area\", stacked=False, figsize=(20,10))\n",
        "\n",
        "plt.title('Immigration trends in top five countries (1980-2013)')\n",
        "plt.xlabel('Years')\n",
        "plt.ylabel('Immigrants count')\n",
        "\n",
        "plt.show()"
      ],
      "execution_count": null,
      "outputs": []
    },
    {
      "cell_type": "code",
      "metadata": {
        "id": "SCgeZKOQEOcT"
      },
      "source": [
        "top5_clean.index = top5_clean.index.map(int)\n",
        "\n",
        "top5_clean.plot(kind=\"area\", stacked=True, figsize=(20,10))\n",
        "\n",
        "plt.title('Immigration trends in top five countries (1980-2013)')\n",
        "plt.xlabel('Years')\n",
        "plt.ylabel('Immigrants count')\n",
        "\n",
        "plt.show()"
      ],
      "execution_count": null,
      "outputs": []
    },
    {
      "cell_type": "code",
      "metadata": {
        "id": "exTCtG9QEX0o"
      },
      "source": [
        "top5_clean.index = top5_clean.index.map(int)\n",
        "\n",
        "#alpha parameter for transparency - default = 0.5 (range is 0 to 1)\n",
        "\n",
        "top5_clean.plot(kind=\"area\", stacked=False, figsize=(20,10), alpha=0.25)\n",
        "\n",
        "plt.title('Immigration trends in top five countries (1980-2013)')\n",
        "plt.xlabel('Years')\n",
        "plt.ylabel('Immigrants count')\n",
        "\n",
        "plt.show()"
      ],
      "execution_count": null,
      "outputs": []
    },
    {
      "cell_type": "code",
      "metadata": {
        "id": "P_FYqZy4fbwn"
      },
      "source": [
        "#Bottom five countries - stacked and unstacked area plot "
      ],
      "execution_count": null,
      "outputs": []
    },
    {
      "cell_type": "code",
      "metadata": {
        "id": "fXrpjKgTErGU"
      },
      "source": [
        "#histogram - at a particular time period / snapshot of the data\n",
        "\n",
        "df_can['2000']"
      ],
      "execution_count": null,
      "outputs": []
    },
    {
      "cell_type": "code",
      "metadata": {
        "id": "Gms6E1etE2SO"
      },
      "source": [
        "df_can['2000'].plot(kind='hist', figsize=(20,10))\n",
        "\n",
        "plt.title('Immigration trends in 195 countries in 2000')\n",
        "plt.xlabel('Number of Immigrants')\n",
        "plt.ylabel('Number of Countries')\n",
        "\n",
        "plt.show()"
      ],
      "execution_count": null,
      "outputs": []
    },
    {
      "cell_type": "code",
      "metadata": {
        "id": "JY_mSeXTFpOM"
      },
      "source": [
        "#histogram\n",
        "years = list(map(str,range(1980,2014)))\n",
        "\n",
        "df_can.loc[['India','China','Denmark','Norway','France','Germany'], years].transpose().plot.hist()"
      ],
      "execution_count": null,
      "outputs": []
    },
    {
      "cell_type": "code",
      "metadata": {
        "id": "CtQOw9aVGBhm"
      },
      "source": [
        "df_can.loc[['India','China','Denmark','Norway','France','Germany'], years].transpose().plot.hist()\n",
        "\n",
        "plt.title('Immigration trends in 6 countries in 1980-2013')\n",
        "plt.xlabel('Number of Immigrants')\n",
        "plt.ylabel('Number of Countries')\n",
        "\n",
        "plt.show()"
      ],
      "execution_count": null,
      "outputs": []
    },
    {
      "cell_type": "markdown",
      "metadata": {
        "id": "FbvWbV7BGpvx"
      },
      "source": [
        "#Vertical bar plot"
      ]
    },
    {
      "cell_type": "code",
      "metadata": {
        "id": "ZijyOq5nGpJt"
      },
      "source": [
        "india = df_can.loc['India', years]\n",
        "\n",
        "india.plot(kind='bar', figsize=(20,10))\n",
        "\n",
        "plt.title('Immigration trends India immigrants from 1980 to 2013')\n",
        "plt.xlabel('Years')\n",
        "plt.ylabel('India immigrants from 1980 to 2013')\n",
        "\n",
        "plt.show()"
      ],
      "execution_count": null,
      "outputs": []
    },
    {
      "cell_type": "code",
      "metadata": {
        "id": "cOOFo9TtKurL"
      },
      "source": [
        "india = df_can.loc['India', years]\n",
        "\n",
        "india.index = india.index.map(int)\n",
        "\n",
        "\n",
        "india.plot(kind='bar', figsize=(10,6))\n",
        "\n",
        "plt.title('Immigration trends India immigrants from 1980 to 2013')\n",
        "plt.xlabel('Years')\n",
        "plt.ylabel('India immigrants from 1980 to 2013')\n",
        "\n",
        "plt.annotate('Increasing trends', xy=(32, 70),  xycoords='data',\n",
        "            xytext=(28, 20), \n",
        "            arrowprops=dict(facecolor='black', shrink=0.05),\n",
        "            horizontalalignment='left', verticalalignment='top',\n",
        "            )\n",
        "\n",
        "plt.show()"
      ],
      "execution_count": null,
      "outputs": []
    },
    {
      "cell_type": "code",
      "metadata": {
        "id": "nTJlcUd-JHM8"
      },
      "source": [
        "india = df_can.loc['India', years]\n",
        "\n",
        "india.plot(kind='barh', figsize=(20,10))\n",
        "\n",
        "plt.title('Immigration trends India immigrants from 1980 to 2013')\n",
        "plt.xlabel('India immigrants from 1980 to 2013')\n",
        "plt.ylabel('Years')\n",
        "\n",
        "plt.show()"
      ],
      "execution_count": null,
      "outputs": []
    }
  ]
}